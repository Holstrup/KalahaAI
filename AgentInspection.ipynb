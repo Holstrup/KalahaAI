{
 "cells": [
  {
   "cell_type": "code",
   "execution_count": null,
   "metadata": {
    "collapsed": true
   },
   "outputs": [],
   "source": [
    "from Game import Kalaha\n",
    "import time\n",
    "import matplotlib.pyplot as plt\n",
    "import copy\n",
    "import random\n",
    "import numpy as np"
   ]
  },
  {
   "cell_type": "code",
   "execution_count": null,
   "metadata": {},
   "outputs": [],
   "source": [
    "depth = []\n",
    "timings = []\n",
    "for i in range(0, 9, 1):\n",
    "    game = Kalaha()\n",
    "    player=game.player2\n",
    "    \n",
    "            \n",
    "    start = time.time()\n",
    "    \n",
    "    game.minimax(game.get_state(),True,i,float(\"-inf\"),float(\"inf\"),False)\n",
    "    best_move=game.get_best_move(i)\n",
    "\n",
    "    end = time.time()\n",
    "    \n",
    "    depth.append(i)\n",
    "    timings.append(round(end - start, 2))"
   ]
  },
  {
   "cell_type": "code",
   "execution_count": null,
   "metadata": {},
   "outputs": [],
   "source": [
    "depth_ab = []\n",
    "timings_ab = []\n",
    "for i in range(0, 11, 1):\n",
    "    game = Kalaha()\n",
    "    player=game.player2\n",
    "    \n",
    "    start = time.time()\n",
    "    \n",
    "    game.minimax(game.get_state(),True,i,float(\"-inf\"),float(\"inf\"),True)\n",
    "    best_move=game.get_best_move(i)\n",
    "\n",
    "    end = time.time()\n",
    "    depth_ab.append(i)\n",
    "    timings_ab.append(round(end - start, 2))"
   ]
  },
  {
   "cell_type": "code",
   "execution_count": null,
   "metadata": {},
   "outputs": [],
   "source": [
    "plt.plot(depth, timings, label = \"MinMax w/o pruning\")\n",
    "plt.plot(depth_ab, timings_ab, label = \"MinMax w. pruning\")\n",
    "\n",
    "plt.xlabel('Search Depth')\n",
    "plt.ylabel('Time [s]')\n",
    "plt.legend(loc=\"upper left\")\n",
    "plt.show()\n",
    "for i, timing in enumerate(timings): \n",
    "    print(\"Depth: {}  Time MinMax: {} s  Time MinMax AB Pruning {} s\".format(i, timing, timings_ab[i]))"
   ]
  }
 ],
 "metadata": {
  "kernelspec": {
   "display_name": "Python 2",
   "language": "python",
   "name": "python2"
  },
  "language_info": {
   "codemirror_mode": {
    "name": "ipython",
    "version": 2
   },
   "file_extension": ".py",
   "mimetype": "text/x-python",
   "name": "python",
   "nbconvert_exporter": "python",
   "pygments_lexer": "ipython2",
   "version": "2.7.6"
  }
 },
 "nbformat": 4,
 "nbformat_minor": 0
}
