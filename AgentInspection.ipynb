{
 "cells": [
  {
   "cell_type": "code",
   "execution_count": null,
   "metadata": {
    "collapsed": true
   },
   "outputs": [],
   "source": [
    "from copy import deepcopy\n",
    "from AI_Agent import AI\n",
    "from Game import Kalaha\n",
    "import matplotlib.pyplot as plt\n",
    "import copy\n",
    "import random\n",
    "import numpy as np"
   ]
  },
  {
   "cell_type": "code",
   "execution_count": null,
   "metadata": {},
   "outputs": [],
   "source": [
    "#Without pruning\n",
    "depth = []\n",
    "timings = []\n",
    "for i in range(0, 9, 1):\n",
    "    game = Kalaha()\n",
    "    player=game.player1\n",
    "    agent = AI(i)\n",
    "    game_copy = deepcopy(game)\n",
    "            \n",
    "            \n",
    "    start = time.time()\n",
    "    \n",
    "    best_move = agent.get_best_move(game_copy, game.get_state(), maximizing_player=False,pruning=False)\n",
    "\n",
    "    end = time.time()\n",
    "    \n",
    "    depth.append(i)\n",
    "    timings.append(round(end - start, 2))"
   ]
  },
  {
   "cell_type": "code",
   "execution_count": null,
   "metadata": {},
   "outputs": [],
   "source": [
    "#with pruning\n",
    "depth_ab = []\n",
    "timings_ab = []\n",
    "for i in range(0, 11, 1):\n",
    "    game = Kalaha()\n",
    "    player=game.player1\n",
    "    agent = AI(i)\n",
    "    game_copy = deepcopy(game)\n",
    "            \n",
    "            \n",
    "    start = time.time()\n",
    "    \n",
    "    best_move = agent.get_best_move(game_copy, game.get_state(), maximizing_player=False,pruning=True)\n",
    "\n",
    "    end = time.time()\n",
    "    depth_ab.append(i)\n",
    "    timings_ab.append(round(end - start, 2))"
   ]
  },
  {
   "cell_type": "code",
   "execution_count": null,
   "metadata": {},
   "outputs": [],
   "source": [
    "plt.plot(depth, timings, label = \"MinMax w/o pruning\")\n",
    "plt.plot(depth_ab, timings_ab, label = \"MinMax w. pruning\")\n",
    "\n",
    "plt.xlabel('Search Depth')\n",
    "plt.ylabel('Time [s]')\n",
    "plt.legend(loc=\"upper left\")\n",
    "plt.show()\n",
    "for i, timing in enumerate(timings): \n",
    "    print(\"Depth: {}  Time MinMax: {} s  Time MinMax AB Pruning {} s\".format(i, timing, timings_ab[i]))"
   ]
  }
 ],
 "metadata": {
  "kernelspec": {
   "display_name": "Python 2",
   "language": "python",
   "name": "python2"
  },
  "language_info": {
   "codemirror_mode": {
    "name": "ipython",
    "version": 2
   },
   "file_extension": ".py",
   "mimetype": "text/x-python",
   "name": "python",
   "nbconvert_exporter": "python",
   "pygments_lexer": "ipython2",
   "version": "2.7.6"
  }
 },
 "nbformat": 4,
 "nbformat_minor": 0
}
