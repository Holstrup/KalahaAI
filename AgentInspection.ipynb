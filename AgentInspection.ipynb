{
 "cells": [
  {
   "cell_type": "code",
   "execution_count": 19,
   "metadata": {},
   "outputs": [],
   "source": [
    "from Game import Kalaha\n",
    "from Agent import Agent\n",
    "import time\n",
    "import matplotlib.pyplot as plt"
   ]
  },
  {
   "cell_type": "markdown",
   "metadata": {
    "heading_collapsed": true
   },
   "source": [
    "## Execution Time\n",
    "\n",
    "This section explores how long it takes to search through the game states at different depths \n",
    "\n",
    "* Iterates over a range, and outputs the execution time of those depths"
   ]
  },
  {
   "cell_type": "code",
   "execution_count": 30,
   "metadata": {
    "hidden": true
   },
   "outputs": [],
   "source": [
    "AI = Agent()\n",
    "\n",
    "depth = []\n",
    "timings = []\n",
    "for i in range(0, 9, 1):\n",
    "    game = Kalaha()\n",
    "    AI.search_depth = i\n",
    "    start = time.time()\n",
    "    \n",
    "    AI.find_next_move(game)\n",
    "\n",
    "    end = time.time()\n",
    "    \n",
    "    depth.append(i)\n",
    "    timings.append(round(end - start, 2))\n",
    "    "
   ]
  },
  {
   "cell_type": "code",
   "execution_count": 31,
   "metadata": {
    "hidden": true
   },
   "outputs": [
    {
     "data": {
      "image/png": "[encoded data removed]",
      "text/plain": [
       "<Figure size 432x288 with 1 Axes>"
      ]
     },
     "metadata": {
      "needs_background": "light"
     },
     "output_type": "display_data"
    },
    {
     "name": "stdout",
     "output_type": "stream",
     "text": [
      "Depth: 0  Time: 0.0 s\n",
      "Depth: 1  Time: 0.0 s\n",
      "Depth: 2  Time: 0.0 s\n",
      "Depth: 3  Time: 0.01 s\n",
      "Depth: 4  Time: 0.03 s\n",
      "Depth: 5  Time: 0.14 s\n",
      "Depth: 6  Time: 0.68 s\n",
      "Depth: 7  Time: 3.36 s\n",
      "Depth: 8  Time: 16.07 s\n"
     ]
    }
   ],
   "source": [
    "plt.plot(depth, timings)\n",
    "plt.ylabel('Time [s]')\n",
    "plt.show()\n",
    "for i, timing in enumerate(timings): \n",
    "    print(\"Depth: {}  Time: {} s\".format(i, timing))"
   ]
  }
 ],
 "metadata": {
  "kernelspec": {
   "display_name": "Python 3",
   "language": "python",
   "name": "python3"
  },
  "language_info": {
   "codemirror_mode": {
    "name": "ipython",
    "version": 3
   },
   "file_extension": ".py",
   "mimetype": "text/x-python",
   "name": "python",
   "nbconvert_exporter": "python",
   "pygments_lexer": "ipython3",
   "version": "3.7.6"
  },
  "toc": {
   "base_numbering": 1,
   "nav_menu": {},
   "number_sections": true,
   "sideBar": true,
   "skip_h1_title": false,
   "title_cell": "Table of Contents",
   "title_sidebar": "Contents",
   "toc_cell": false,
   "toc_position": {},
   "toc_section_display": true,
   "toc_window_display": false
  }
 },
 "nbformat": 4,
 "nbformat_minor": 2
}
