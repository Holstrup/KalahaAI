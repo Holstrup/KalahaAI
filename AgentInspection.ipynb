{
 "cells": [
  {
   "cell_type": "code",
   "execution_count": null,
   "metadata": {
    "collapsed": true
   },
   "outputs": [],
   "source": [
    "from copy import deepcopy\n",
    "from AI_Agent import AI\n",
    "from Game import Kalaha\n",
    "import matplotlib.pyplot as plt\n",
    "import copy\n",
    "import random\n",
    "import numpy as np\n",
    "import time"
   ]
  },
  {
   "cell_type": "code",
   "execution_count": null,
   "metadata": {},
   "outputs": [],
   "source": [
    "#Without pruning\n",
    "depth = []\n",
    "timings = []\n",
    "for i in range(0, 9, 1):\n",
    "    game = Kalaha()\n",
    "    player=game.player1\n",
    "    agent = AI(i,True,False,False)\n",
    "    game_copy = deepcopy(game)\n",
    "            \n",
    "            \n",
    "    start = time.time()\n",
    "    \n",
    "    best_move = agent.get_best_move(game_copy, game.get_state(), maximizing_player=False,pruning=False)\n",
    "\n",
    "    end = time.time()\n",
    "    \n",
    "    depth.append(i)\n",
    "    timings.append(round(end - start, 2))"
   ]
  },
  {
   "cell_type": "code",
   "execution_count": null,
   "metadata": {},
   "outputs": [],
   "source": [
    "#with pruning\n",
    "depth_ab = []\n",
    "timings_ab = []\n",
    "for i in range(0, 11, 1):\n",
    "    game = Kalaha()\n",
    "    player=game.player1\n",
    "    agent = AI(i,True,False,False)\n",
    "    game_copy = deepcopy(game)\n",
    "            \n",
    "            \n",
    "    start = time.time()\n",
    "    \n",
    "    best_move = agent.get_best_move(game_copy, game.get_state(), maximizing_player=False,pruning=True)\n",
    "\n",
    "    end = time.time()\n",
    "    depth_ab.append(i)\n",
    "    timings_ab.append(round(end - start, 2))"
   ]
  },
  {
   "cell_type": "code",
   "execution_count": null,
   "metadata": {},
   "outputs": [],
   "source": [
    "plt.plot(depth, timings, label = \"MinMax w/o pruning\")\n",
    "plt.plot(depth_ab, timings_ab, label = \"MinMax w. pruning\")\n",
    "\n",
    "plt.xlabel('Search Depth')\n",
    "plt.ylabel('Time [s]')\n",
    "plt.legend(loc=\"upper left\")\n",
    "plt.show()\n",
    "for i, timing in enumerate(timings): \n",
    "    print(\"Depth: {}  Time MinMax: {} s  Time MinMax AB Pruning {} s\".format(i, timing, timings_ab[i]))"
   ]
  },
  {
   "cell_type": "code",
   "execution_count": null,
   "metadata": {},
   "outputs": [],
   "source": [
    "def gameplay(eval_store,eval_side,eval_empty, human = False, delay = 0):\n",
    "    game_development = []\n",
    "    \n",
    "    game = Kalaha()\n",
    "    player = game.player2\n",
    "    ai_1 = AI(4,eval_store,eval_side,eval_empty)\n",
    "    ai_2 = AI(4,eval_store,eval_side,eval_empty)\n",
    "    \n",
    "    \n",
    "    while not game.terminal_test(game.get_state()):\n",
    "        \n",
    "        if player == game.player1:\n",
    "            #input of AI is depth of minimax\n",
    "\n",
    "            game_copy = deepcopy(game)\n",
    "            best_move = ai_1.get_best_move(game_copy, game.get_state(), maximizing_player=False,pruning=True)\n",
    "\n",
    "            \n",
    "            new_state, same_player = game.take(player, best_move, game.get_state())\n",
    "            game.set_state(new_state)\n",
    "            if not same_player:\n",
    "                player = game.player2\n",
    "\n",
    "            \n",
    "        else:\n",
    "            # input of AI is depth of minimax\n",
    "\n",
    "            game_copy=deepcopy(game)\n",
    "            best_move=ai_2.get_best_move(game_copy,game.get_state(),maximizing_player=True,pruning=True)\n",
    "\n",
    "\n",
    "            new_state,same_player = game.take(player, best_move,game.get_state())\n",
    "            game.set_state(new_state)\n",
    "            if not same_player:\n",
    "\n",
    "                player = game.player1\n",
    "                \n",
    "        game_development.append(ai_1.evaluate(game.get_state()))\n",
    "    #When one player runs out of stones\n",
    "    game.finalize_game(game_over=True)\n",
    "    return game_development"
   ]
  },
  {
   "cell_type": "code",
   "execution_count": null,
   "metadata": {},
   "outputs": [],
   "source": [
    "eval_states=[True,False]\n",
    "game_series = []\n",
    "arguments = []\n",
    "#first eval1 is always true\n",
    "for state2 in eval_states:\n",
    "    for state3 in eval_states:\n",
    "        game_series.append(gameplay(True,state2,state3))\n",
    "        arguments.append([True,state2,state3])"
   ]
  },
  {
   "cell_type": "code",
   "execution_count": null,
   "metadata": {},
   "outputs": [],
   "source": [
    "for i,series in enumerate(game_series):\n",
    "    plt.plot(range(1,len(series) + 1, 1), series, label=\"Arguments: {0}\".format(arguments[i]))\n",
    "plt.title(\"AI vs. AI\")\n",
    "plt.legend(loc='center left', bbox_to_anchor=(1, 0.5))\n",
    "plt.xlabel('Number moves', fontsize=12)\n",
    "plt.ylabel('Total score', fontsize=12)\n",
    "plt.show()"
   ]
  }
 ],
 "metadata": {
  "kernelspec": {
   "display_name": "Python 2",
   "language": "python",
   "name": "python2"
  },
  "language_info": {
   "codemirror_mode": {
    "name": "ipython",
    "version": 2
   },
   "file_extension": ".py",
   "mimetype": "text/x-python",
   "name": "python",
   "nbconvert_exporter": "python",
   "pygments_lexer": "ipython2",
   "version": "2.7.6"
  }
 },
 "nbformat": 4,
 "nbformat_minor": 0
}
