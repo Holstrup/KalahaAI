{
 "cells": [
  {
   "cell_type": "code",
   "execution_count": 1,
   "metadata": {},
   "outputs": [],
   "source": [
    "from Game import Kalaha\n",
    "from Agent import Agent\n",
    "from MCTS.State import State\n",
    "from MCTS.MCTS import MCTS\n",
    "import time\n",
    "import matplotlib.pyplot as plt\n",
    "import copy\n",
    "import random\n",
    "import numpy as np"
   ]
  },
  {
   "cell_type": "markdown",
   "metadata": {
    "heading_collapsed": true
   },
   "source": [
    "## Colab "
   ]
  },
  {
   "cell_type": "code",
   "execution_count": null,
   "metadata": {
    "hidden": true
   },
   "outputs": [],
   "source": [
    "! git clone https://github.com/Holstrup/KalahaAI.git"
   ]
  },
  {
   "cell_type": "code",
   "execution_count": null,
   "metadata": {
    "hidden": true
   },
   "outputs": [],
   "source": [
    "import os \n",
    "os.chdir(\"KalahaAI\")"
   ]
  },
  {
   "cell_type": "code",
   "execution_count": null,
   "metadata": {
    "hidden": true
   },
   "outputs": [],
   "source": [
    "! git checkout Minimax_Alex"
   ]
  },
  {
   "cell_type": "markdown",
   "metadata": {},
   "source": [
    "## Execution Time\n",
    "\n",
    "This section explores how long it takes to search through the game states at different depths \n",
    "\n",
    "* Iterates over a range, and outputs the execution time of those depths"
   ]
  },
  {
   "cell_type": "code",
   "execution_count": 20,
   "metadata": {},
   "outputs": [],
   "source": [
    "AI = Agent()\n",
    "\n",
    "depth = []\n",
    "timings = []\n",
    "for i in range(0, 9, 1):\n",
    "    game = Kalaha()\n",
    "    AI.search_depth = i\n",
    "    start = time.time()\n",
    "    \n",
    "    AI.find_next_move(game)\n",
    "\n",
    "    end = time.time()\n",
    "    \n",
    "    depth.append(i)\n",
    "    timings.append(round(end - start, 2))\n",
    "    "
   ]
  },
  {
   "cell_type": "code",
   "execution_count": 25,
   "metadata": {},
   "outputs": [],
   "source": [
    "AI = Agent()\n",
    "\n",
    "depth_ab = []\n",
    "timings_ab = []\n",
    "for i in range(0, 11, 1):\n",
    "    game = Kalaha()\n",
    "    AI.search_depth = i\n",
    "    start = time.time()\n",
    "    \n",
    "    AI.find_next_move(game, pruning=True)\n",
    "\n",
    "    end = time.time()\n",
    "    depth_ab.append(i)\n",
    "    timings_ab.append(round(end - start, 2))\n",
    "    "
   ]
  },
  {
   "cell_type": "code",
   "execution_count": 26,
   "metadata": {},
   "outputs": [
    {
     "data": {
      "image/png": "[encoded data removed]",
      "text/plain": [
       "<Figure size 432x288 with 1 Axes>"
      ]
     },
     "metadata": {
      "needs_background": "light"
     },
     "output_type": "display_data"
    },
    {
     "name": "stdout",
     "output_type": "stream",
     "text": [
      "Depth: 0  Time MinMax: 0.0 s  Time MinMax AB Pruning 0.0 s\n",
      "Depth: 1  Time MinMax: 0.0 s  Time MinMax AB Pruning 0.0 s\n",
      "Depth: 2  Time MinMax: 0.0 s  Time MinMax AB Pruning 0.0 s\n",
      "Depth: 3  Time MinMax: 0.01 s  Time MinMax AB Pruning 0.0 s\n",
      "Depth: 4  Time MinMax: 0.03 s  Time MinMax AB Pruning 0.01 s\n",
      "Depth: 5  Time MinMax: 0.14 s  Time MinMax AB Pruning 0.03 s\n",
      "Depth: 6  Time MinMax: 0.68 s  Time MinMax AB Pruning 0.13 s\n",
      "Depth: 7  Time MinMax: 3.32 s  Time MinMax AB Pruning 0.34 s\n",
      "Depth: 8  Time MinMax: 16.17 s  Time MinMax AB Pruning 1.17 s\n"
     ]
    }
   ],
   "source": [
    "plt.plot(depth, timings, label = \"MinMax w/o pruning\")\n",
    "plt.plot(depth_ab, timings_ab, label = \"MinMax w. pruning\")\n",
    "\n",
    "plt.xlabel('Search Depth')\n",
    "plt.ylabel('Time [s]')\n",
    "plt.legend(loc=\"upper left\")\n",
    "plt.title(\"Search Time v. Search Depth\")\n",
    "plt.show()\n",
    "for i, timing in enumerate(timings): \n",
    "    print(\"Depth: {}  Time MinMax: {} s  Time MinMax AB Pruning {} s\".format(i, timing, timings_ab[i]))"
   ]
  },
  {
   "cell_type": "code",
   "execution_count": 4,
   "metadata": {},
   "outputs": [],
   "source": [
    "def monte_carlo_pred(curr_state, iterations):\n",
    "    s0 = State(curr_state)\n",
    "    mcts = MCTS(s0)\n",
    "    for i in range(iterations):\n",
    "        n0 = mcts.root_node\n",
    "        mcts.MCTS(n0)\n",
    "    return mcts.robust_child()"
   ]
  },
  {
   "cell_type": "code",
   "execution_count": 12,
   "metadata": {},
   "outputs": [],
   "source": [
    "iterations = [50, 100, 150, 200, 250, 300, 400, 500, 750, 1000, 1500, 2000]\n",
    "depth_ab = []\n",
    "timings_ab = []\n",
    "for i in iterations:\n",
    "    root = [[4] * 6, [4] * 6, [0, 0]] + [0]\n",
    "    game = Kalaha()\n",
    "    \n",
    "    start = time.time()\n",
    "    \n",
    "    monte_carlo_pred(root, i)\n",
    "    \n",
    "    end = time.time()\n",
    "    \n",
    "    depth_ab.append(i)\n",
    "    timings_ab.append(round(end - start, 2))"
   ]
  },
  {
   "cell_type": "code",
   "execution_count": 20,
   "metadata": {},
   "outputs": [
    {
     "data": {
      "text/plain": [
       "[<matplotlib.lines.Line2D at 0x10c9c9150>]"
      ]
     },
     "execution_count": 20,
     "metadata": {},
     "output_type": "execute_result"
    },
    {
     "data": {
      "image/png": "[encoded data removed]",
      "text/plain": [
       "<Figure size 432x288 with 1 Axes>"
      ]
     },
     "metadata": {
      "needs_background": "light"
     },
     "output_type": "display_data"
    }
   ],
   "source": [
    "figure = plt.figure()\n",
    "plt.xlabel('Iterations')\n",
    "plt.ylabel('Time [s]')\n",
    "plt.title(\"MCTS v. Search Iterations\")\n",
    "plt.plot(depth_ab, timings_ab, label = \"MinMax w/o pruning\")"
   ]
  },
  {
   "cell_type": "code",
   "execution_count": 18,
   "metadata": {},
   "outputs": [],
   "source": [
    "figure.savefig(\"foo.pdf\", bbox_inches='tight')"
   ]
  },
  {
   "cell_type": "markdown",
   "metadata": {},
   "source": [
    "## Game Development\n",
    "\n",
    "This section explores how what the evaluation function evaluates to after each round of the game, at different search depths "
   ]
  },
  {
   "cell_type": "code",
   "execution_count": 46,
   "metadata": {},
   "outputs": [],
   "source": [
    "def gameplay(depth, human = False, delay = 0):\n",
    "    game_development = []\n",
    "    \n",
    "    game = Kalaha(starting_player=0)\n",
    "    ai_1 = Agent()\n",
    "    ai_2 = Agent()\n",
    "    \n",
    "    ai_1.search_depth = depth\n",
    "    ai_2.search_depth = depth\n",
    "    \n",
    "    while not game.terminal_test():\n",
    "        game_development.append(ai_1.evaluate(game.state))\n",
    "        time.sleep(delay)\n",
    "        player = game.state[3]\n",
    "\n",
    "        if player == game.player1:\n",
    "            game_copy = copy.deepcopy(game)\n",
    "            hole = ai_1.find_next_move(game_copy)\n",
    "            game.take(hole)\n",
    "\n",
    "        else:\n",
    "            game_copy = copy.deepcopy(game)\n",
    "            hole = game.possible_actions()[0]           # <- Stupid Agent \n",
    "            # hole = random.choice(game.possible_actions()) # <- Random Agent \n",
    "            # hole = ai_2.find_next_move(game_copy)       # <- MinMax Agent\n",
    "            game.take(hole)\n",
    "\n",
    "        #game.print_board()\n",
    "    game.finalize_game()\n",
    "    #game.print_board()\n",
    "    return game_development"
   ]
  },
  {
   "cell_type": "code",
   "execution_count": 30,
   "metadata": {},
   "outputs": [],
   "source": [
    "game_series = []\n",
    "depths = []\n",
    "for i in range(2, 9, 2):\n",
    "    depths.append(i)\n",
    "    game_series.append(gameplay(depth = i))"
   ]
  },
  {
   "cell_type": "code",
   "execution_count": 36,
   "metadata": {},
   "outputs": [
    {
     "data": {
      "image/png": "[encoded data removed]",
      "text/plain": [
       "<Figure size 432x288 with 1 Axes>"
      ]
     },
     "metadata": {
      "needs_background": "light"
     },
     "output_type": "display_data"
    }
   ],
   "source": [
    "for i, series in enumerate(game_series):\n",
    "    plt.plot(range(1,len(series) + 1, 1), series, label=\"Depth {}\".format(depths[i]))\n",
    "plt.title(\"AI vs. AI\")\n",
    "plt.legend(loc=\"upper left\")\n",
    "plt.show()\n"
   ]
  },
  {
   "cell_type": "markdown",
   "metadata": {},
   "source": [
    "This plot shows us what happens when a MinMax agent plays against another MinMax agent. A higher depth does not yield a bigger win, probably because it is also facing a better opponent. \n",
    "\n",
    "Now replace the MinMax agent for player 2, with the stupid agent in the Gameplay function"
   ]
  },
  {
   "cell_type": "code",
   "execution_count": 47,
   "metadata": {},
   "outputs": [],
   "source": [
    "game_series = []\n",
    "depths = []\n",
    "for i in range(2, 9, 2):\n",
    "    depths.append(i)\n",
    "    game_series.append(gameplay(depth = i))"
   ]
  },
  {
   "cell_type": "code",
   "execution_count": 49,
   "metadata": {},
   "outputs": [
    {
     "data": {
      "image/png": "[encoded data removed]",
      "text/plain": [
       "<Figure size 432x288 with 1 Axes>"
      ]
     },
     "metadata": {
      "needs_background": "light"
     },
     "output_type": "display_data"
    }
   ],
   "source": [
    "figure = plt.figure()\n",
    "for i, series in enumerate(game_series):\n",
    "    plt.plot(range(1,len(series) + 1, 1), series, label=\"Depth {}\".format(depths[i]))\n",
    "plt.title(\"AI vs. Stupid Player\")\n",
    "plt.legend(loc=\"upper left\")\n",
    "plt.xlabel('# Moves into game')\n",
    "plt.ylabel('Point Difference')\n",
    "plt.show()\n",
    "figure.savefig(\"AIvStupid.pdf\", bbox_inches='tight')"
   ]
  },
  {
   "cell_type": "markdown",
   "metadata": {},
   "source": [
    "This time we see, that a higher depth yields a bigger (and quicker) win. Especially at depth 7, the AI is able to win with ~30 points, after ~20 rounds. "
   ]
  },
  {
   "cell_type": "markdown",
   "metadata": {
    "heading_collapsed": true
   },
   "source": [
    "## Win Rates"
   ]
  },
  {
   "cell_type": "code",
   "execution_count": 103,
   "metadata": {
    "hidden": true
   },
   "outputs": [],
   "source": [
    "def gameplay(depth, human = False, delay = 0):\n",
    "    game_development = []\n",
    "    \n",
    "    game = Kalaha(starting_player=0)\n",
    "    ai_1 = Agent()\n",
    "    \n",
    "    ai_1.search_depth = depth\n",
    "    \n",
    "    while not game.terminal_test():\n",
    "        game_development.append(ai_1.evaluate(game.state))\n",
    "        time.sleep(delay)\n",
    "        player = game.state[3]\n",
    "\n",
    "        if player == game.player1:\n",
    "            game_copy = copy.deepcopy(game)\n",
    "            hole = ai_1.find_next_move(game_copy, pruning=True)\n",
    "            game.take(hole)\n",
    "\n",
    "        else:\n",
    "            game_copy = copy.deepcopy(game)\n",
    "            hole = random.choice(game.possible_actions()) # <- Random Agent \n",
    "            game.take(hole)\n",
    "\n",
    "            \n",
    "    game.finalize_game()\n",
    "    return game.state[2][0] - game.state[2][1]"
   ]
  },
  {
   "cell_type": "code",
   "execution_count": 93,
   "metadata": {
    "hidden": true
   },
   "outputs": [],
   "source": [
    "game_iterations = 1000\n",
    "depth = 3\n",
    "\n",
    "game_series = np.zeros(game_iterations)\n",
    "random.seed(42)\n",
    "\n",
    "for i in range(0, game_iterations, 1):\n",
    "    evaluation = gameplay(depth = depth)\n",
    "    game_series[i] = evaluation "
   ]
  },
  {
   "cell_type": "code",
   "execution_count": 94,
   "metadata": {
    "hidden": true
   },
   "outputs": [
    {
     "name": "stdout",
     "output_type": "stream",
     "text": [
      "Win Rate: 98.1 %\n",
      "Biggest Win: 40.0\n",
      "Biggest Loss: -16.0\n",
      "Mean Points: 23.844\n"
     ]
    }
   ],
   "source": [
    "win_rate = np.size(np.where(game_series > 0)) / np.size(game_series) * 100\n",
    "max_win = np.max(game_series)\n",
    "max_loss = np.min(game_series)\n",
    "mean_points = np.mean(game_series)\n",
    "print(\"Win Rate: {} %\".format(win_rate))\n",
    "print(\"Biggest Win: {}\".format(max_win))\n",
    "print(\"Biggest Loss: {}\".format(max_loss))\n",
    "print(\"Mean Points: {}\".format(mean_points))"
   ]
  },
  {
   "cell_type": "markdown",
   "metadata": {
    "heading_collapsed": true
   },
   "source": [
    "## Game State Exploration"
   ]
  },
  {
   "cell_type": "code",
   "execution_count": 175,
   "metadata": {
    "hidden": true
   },
   "outputs": [],
   "source": [
    "def gameplay(depth, human = False, delay = 0):\n",
    "    \n",
    "    game = Kalaha(starting_player=0)\n",
    "    ai_1 = Agent()\n",
    "    ai_2 = Agent()\n",
    "    \n",
    "    ai_1.search_depth = depth\n",
    "    ai_2.search_depth = depth\n",
    "    game_length = 1\n",
    "    branching_factor = []\n",
    "    while not game.terminal_test():\n",
    "        time.sleep(delay)\n",
    "        player = game.state[3]\n",
    "        branching_factor.append(len(game.possible_actions()))\n",
    "        \n",
    "        if player == game.player1:\n",
    "            game_copy = copy.deepcopy(game)\n",
    "            hole = ai_1.find_next_move(game_copy, pruning=True)\n",
    "            game.take(hole)\n",
    "\n",
    "        else:\n",
    "            game_copy = copy.deepcopy(game)\n",
    "            hole = ai_2.find_next_move(game_copy, pruning=True)      # <- MinMax Agent\n",
    "            game.take(hole)\n",
    "        game_length += 1\n",
    "\n",
    "    game.finalize_game()\n",
    "    branching_factor = np.array(branching_factor)\n",
    "    return game_length, np.mean(branching_factor)"
   ]
  },
  {
   "cell_type": "code",
   "execution_count": 184,
   "metadata": {
    "hidden": true
   },
   "outputs": [
    {
     "name": "stdout",
     "output_type": "stream",
     "text": [
      "0\n"
     ]
    }
   ],
   "source": [
    "game_iterations = 1\n",
    "depth = 3\n",
    "\n",
    "game_length = np.zeros(game_iterations)\n",
    "branching_factor = np.zeros(game_iterations)\n",
    "\n",
    "for i in range(0, game_iterations, 1):\n",
    "    if i % 10 == 0: print(i)\n",
    "    length, branching = gameplay(depth = depth)\n",
    "    game_length[i] = length \n",
    "    branching_factor[i] = branching"
   ]
  },
  {
   "cell_type": "code",
   "execution_count": 185,
   "metadata": {
    "hidden": true
   },
   "outputs": [
    {
     "name": "stdout",
     "output_type": "stream",
     "text": [
      "Average Game Length: 49.0\n",
      "Average Game Length: 3.9791666666666665\n",
      "Estimated State Space 2.453659891028686e+29\n"
     ]
    }
   ],
   "source": [
    "print(\"Average Game Length: {}\".format(np.mean(game_length)))\n",
    "print(\"Average Game Length: {}\".format(np.mean(branching_factor)))\n",
    "print(\"Estimated State Space {}\".format(np.mean(branching_factor) ** np.mean(game_length)))"
   ]
  },
  {
   "cell_type": "markdown",
   "metadata": {
    "heading_collapsed": true
   },
   "source": [
    "## Heuristics - Not Done"
   ]
  },
  {
   "cell_type": "code",
   "execution_count": 21,
   "metadata": {
    "hidden": true
   },
   "outputs": [],
   "source": [
    "search_depth = 6"
   ]
  },
  {
   "cell_type": "code",
   "execution_count": 39,
   "metadata": {
    "hidden": true
   },
   "outputs": [],
   "source": [
    "def gameplay(depth, heuristic1, heuristic2):\n",
    "    game_development = []\n",
    "    \n",
    "    game = Kalaha(starting_player=0)\n",
    "    ai_1 = Agent()\n",
    "    ai_2 = Agent()\n",
    "    \n",
    "    ai_1.evaluate = heuristic1\n",
    "    ai_2.evaluate = heuristic2\n",
    "    \n",
    "    ai_1.search_depth = depth\n",
    "    ai_2.search_depth = depth\n",
    "    \n",
    "    while not game.terminal_test():\n",
    "        game_development.append(ai_1.evaluate(game.state))\n",
    "        player = game.state[3]\n",
    "\n",
    "        if player == game.player1:\n",
    "            game_copy = copy.deepcopy(game)\n",
    "            hole = ai_1.find_next_move(game_copy)\n",
    "            game.take(hole)\n",
    "\n",
    "        else:\n",
    "            game_copy = copy.deepcopy(game) \n",
    "            hole = ai_2.find_next_move(game_copy)       # <- MinMax Agent\n",
    "            game.take(hole)\n",
    "\n",
    "    game.finalize_game()\n",
    "    return game_development"
   ]
  },
  {
   "cell_type": "markdown",
   "metadata": {
    "hidden": true
   },
   "source": [
    "* **H1: Hoard as many counters as possible in one pit** <br>\n",
    "This heuristic, with a look ahead of one move, works by attempting to keep as many counters as possible in the left-most pit on the board. At the end of the game, all the counters on a side of the board are awarded to that player’s side. There is some evidence in literature that this is the best pit in which hoard counters.\n",
    "* **H2: Keep as many counters on the players' own side.** <br>\n",
    "This heuristic is a generalized version of H1 and is based on the same principles.\n",
    "* **H3: Have as many moves as possible from which to choose.** <br>\n",
    "This heuristic has a look ahead of one and explores the possible benefit of having more moves to choose from.\n",
    "* **H4: Maximize the amount of counters in a player's own store**. <br>\n",
    "This heuristic aims to pick a move that will maximize the amount of counters captured. It has a look ahead of one.\n",
    "* **H5: Move the counters from the pit closest to the opponent's side** <br>\n",
    "This heuristic, with a look ahead of one, aims to make a move from the right-most pit on the board. If it is empty, then the next pit is checked and so on. It was chosen because it has a good performance in Kalah [18] and the perfect player’s opening move in Awari is to play from the rightmost pit\n",
    "* **H6: Keep the opponents score to a minimum** <br>\n",
    "This heuristic, with a look ahead of two moves, attempts to minimize the number of counters an opponent can win on their next move"
   ]
  },
  {
   "cell_type": "code",
   "execution_count": 42,
   "metadata": {
    "hidden": true
   },
   "outputs": [],
   "source": [
    "def h1(state):\n",
    "    \"\"\"\n",
    "    Hoard as many counters as possible in one pit\n",
    "    \"\"\"\n",
    "    return state[0][5] - state[1][5]\n",
    "\n",
    "def h2(state):\n",
    "    \"\"\"\n",
    "    Keep as many counters on the players' own side.\n",
    "    \"\"\"\n",
    "    return max( max(state[0]), state[2][0]) - max( max(state[1]), state[2][1])\n",
    "    \n",
    "\n",
    "def h4(state):\n",
    "    \"\"\"\n",
    "    Maximize the amount of counters in a player's own store\n",
    "    \"\"\"\n",
    "    return state[2][0] - state[2][1]"
   ]
  },
  {
   "cell_type": "code",
   "execution_count": 44,
   "metadata": {
    "hidden": true
   },
   "outputs": [
    {
     "data": {
      "image/png": "[encoded data removed]",
      "text/plain": [
       "<Figure size 432x288 with 1 Axes>"
      ]
     },
     "metadata": {
      "needs_background": "light"
     },
     "output_type": "display_data"
    }
   ],
   "source": [
    "game_series = gameplay(search_depth, h2, h4)\n",
    "\n",
    "plt.plot(range(1,len(game_series) + 1, 1), game_series)\n",
    "plt.title(\"H2 v. H4\")\n",
    "plt.show()"
   ]
  },
  {
   "cell_type": "markdown",
   "metadata": {},
   "source": [
    "## Monte Carlo Tree Search"
   ]
  },
  {
   "cell_type": "markdown",
   "metadata": {},
   "source": [
    "The Monte Carlo Pred function takes the current state of the game, and the number of iterations MCTS should be run. It uses the state, to initialize a root node, and runs MCTS from there. Finally, it returns the **Robust Child** of the root node. The Robust Child is the most visited child node to the root node. "
   ]
  },
  {
   "cell_type": "code",
   "execution_count": 2,
   "metadata": {},
   "outputs": [],
   "source": [
    "def monte_carlo_pred(curr_state, iterations):\n",
    "    s0 = State(curr_state)\n",
    "    mcts = MCTS(s0)\n",
    "    for i in range(iterations):\n",
    "        n0 = mcts.root_node\n",
    "        mcts.MCTS(n0)\n",
    "    return mcts.robust_child()"
   ]
  },
  {
   "cell_type": "code",
   "execution_count": 17,
   "metadata": {},
   "outputs": [],
   "source": [
    "def main(mcts_iterations):\n",
    "    game = Kalaha(starting_player=0)\n",
    "    \n",
    "    MM_AB = Agent()\n",
    "    \n",
    "    MM_AB.search_depth = 2 # <- Minimax Alpha Beta Pruning - Depth\n",
    "    \n",
    "    while not game.terminal_test():\n",
    "\n",
    "        player = game.state[3]\n",
    "        \n",
    "        if player == game.player1:\n",
    "            game_copy = copy.deepcopy(game)\n",
    "            hole = monte_carlo_pred(game_copy.state, mcts_iterations) # <- MCTS Action\n",
    "            game.take(hole)\n",
    "            \n",
    "        else:\n",
    "            game_copy = copy.deepcopy(game)\n",
    "            hole = MM_AB.find_next_move(game_copy) # <- Minimax Agent\n",
    "            game.take(hole)\n",
    "            \n",
    "    game.finalize_game()\n",
    "    game.print_board()\n",
    "    # Returning the difference in points\n",
    "    return game.state[2][0] - game.state[2][1]"
   ]
  },
  {
   "cell_type": "code",
   "execution_count": 19,
   "metadata": {},
   "outputs": [
    {
     "name": "stdout",
     "output_type": "stream",
     "text": [
      "2 50 0\n",
      "\n",
      "\n",
      "  -------------\n",
      " | 0|0|0|0|0|0 | \n",
      "29|             |19\n",
      " | 0|0|0|0|0|0 | \n",
      "  -------------\n",
      "\n",
      "\n",
      "----------\n",
      "Full Game Series: [-10]\n",
      "2 100 0\n",
      "\n",
      "\n",
      "  -------------\n",
      " | 0|0|0|0|0|0 | \n",
      "33|             |15\n",
      " | 0|0|0|0|0|0 | \n",
      "  -------------\n",
      "\n",
      "\n",
      "----------\n",
      "Full Game Series: [-18]\n",
      "2 500 0\n",
      "\n",
      "\n",
      "  -------------\n",
      " | 0|0|0|0|0|0 | \n",
      "26|             |22\n",
      " | 0|0|0|0|0|0 | \n",
      "  -------------\n",
      "\n",
      "\n",
      "----------\n",
      "Full Game Series: [-4]\n",
      "2 1000 0\n",
      "\n",
      "\n",
      "  -------------\n",
      " | 0|0|0|0|0|0 | \n",
      "37|             |11\n",
      " | 0|0|0|0|0|0 | \n",
      "  -------------\n",
      "\n",
      "\n",
      "----------\n",
      "Full Game Series: [-26]\n",
      "2 2000 0\n",
      "\n",
      "\n",
      "  -------------\n",
      " | 0|0|0|0|0|0 | \n",
      "21|             |27\n",
      " | 0|0|0|0|0|0 | \n",
      "  -------------\n",
      "\n",
      "\n",
      "----------\n",
      "Full Game Series: [6]\n",
      "4 50 0\n",
      "\n",
      "\n",
      "  -------------\n",
      " | 0|0|0|0|0|0 | \n",
      "29|             |19\n",
      " | 0|0|0|0|0|0 | \n",
      "  -------------\n",
      "\n",
      "\n",
      "----------\n",
      "Full Game Series: [-10]\n",
      "4 100 0\n",
      "\n",
      "\n",
      "  -------------\n",
      " | 0|0|0|0|0|0 | \n",
      "23|             |25\n",
      " | 0|0|0|0|0|0 | \n",
      "  -------------\n",
      "\n",
      "\n",
      "----------\n",
      "Full Game Series: [2]\n",
      "4 500 0\n"
     ]
    },
    {
     "ename": "KeyboardInterrupt",
     "evalue": "",
     "output_type": "error",
     "traceback": [
      "\u001b[0;31m---------------------------------------------------------------------------\u001b[0m",
      "\u001b[0;31mKeyboardInterrupt\u001b[0m                         Traceback (most recent call last)",
      "\u001b[0;32m<ipython-input-19-6a512c7d6ca5>\u001b[0m in \u001b[0;36m<module>\u001b[0;34m\u001b[0m\n\u001b[1;32m     10\u001b[0m         \u001b[0;32mfor\u001b[0m \u001b[0mi\u001b[0m \u001b[0;32min\u001b[0m \u001b[0mrange\u001b[0m\u001b[0;34m(\u001b[0m\u001b[0mrepetitions\u001b[0m \u001b[0;34m+\u001b[0m \u001b[0;36m1\u001b[0m\u001b[0;34m)\u001b[0m\u001b[0;34m:\u001b[0m\u001b[0;34m\u001b[0m\u001b[0;34m\u001b[0m\u001b[0m\n\u001b[1;32m     11\u001b[0m             \u001b[0mprint\u001b[0m\u001b[0;34m(\u001b[0m\u001b[0msearch_depth\u001b[0m\u001b[0;34m,\u001b[0m \u001b[0mj\u001b[0m\u001b[0;34m,\u001b[0m \u001b[0mi\u001b[0m\u001b[0;34m)\u001b[0m\u001b[0;34m\u001b[0m\u001b[0;34m\u001b[0m\u001b[0m\n\u001b[0;32m---> 12\u001b[0;31m             \u001b[0mgame_series\u001b[0m\u001b[0;34m.\u001b[0m\u001b[0mappend\u001b[0m\u001b[0;34m(\u001b[0m\u001b[0mmain\u001b[0m\u001b[0;34m(\u001b[0m\u001b[0mj\u001b[0m\u001b[0;34m)\u001b[0m\u001b[0;34m)\u001b[0m\u001b[0;34m\u001b[0m\u001b[0;34m\u001b[0m\u001b[0m\n\u001b[0m\u001b[1;32m     13\u001b[0m \u001b[0;34m\u001b[0m\u001b[0m\n\u001b[1;32m     14\u001b[0m         \u001b[0mgame_series\u001b[0m \u001b[0;34m=\u001b[0m \u001b[0mnp\u001b[0m\u001b[0;34m.\u001b[0m\u001b[0marray\u001b[0m\u001b[0;34m(\u001b[0m\u001b[0mgame_series\u001b[0m\u001b[0;34m)\u001b[0m\u001b[0;34m\u001b[0m\u001b[0;34m\u001b[0m\u001b[0m\n",
      "\u001b[0;32m<ipython-input-17-b4fb50063649>\u001b[0m in \u001b[0;36mmain\u001b[0;34m(mcts_iterations)\u001b[0m\n\u001b[1;32m     12\u001b[0m         \u001b[0;32mif\u001b[0m \u001b[0mplayer\u001b[0m \u001b[0;34m==\u001b[0m \u001b[0mgame\u001b[0m\u001b[0;34m.\u001b[0m\u001b[0mplayer1\u001b[0m\u001b[0;34m:\u001b[0m\u001b[0;34m\u001b[0m\u001b[0;34m\u001b[0m\u001b[0m\n\u001b[1;32m     13\u001b[0m             \u001b[0mgame_copy\u001b[0m \u001b[0;34m=\u001b[0m \u001b[0mcopy\u001b[0m\u001b[0;34m.\u001b[0m\u001b[0mdeepcopy\u001b[0m\u001b[0;34m(\u001b[0m\u001b[0mgame\u001b[0m\u001b[0;34m)\u001b[0m\u001b[0;34m\u001b[0m\u001b[0;34m\u001b[0m\u001b[0m\n\u001b[0;32m---> 14\u001b[0;31m             \u001b[0mhole\u001b[0m \u001b[0;34m=\u001b[0m \u001b[0mmonte_carlo_pred\u001b[0m\u001b[0;34m(\u001b[0m\u001b[0mgame_copy\u001b[0m\u001b[0;34m.\u001b[0m\u001b[0mstate\u001b[0m\u001b[0;34m,\u001b[0m \u001b[0mmcts_iterations\u001b[0m\u001b[0;34m)\u001b[0m \u001b[0;31m# <- MCTS Action\u001b[0m\u001b[0;34m\u001b[0m\u001b[0;34m\u001b[0m\u001b[0m\n\u001b[0m\u001b[1;32m     15\u001b[0m             \u001b[0mgame\u001b[0m\u001b[0;34m.\u001b[0m\u001b[0mtake\u001b[0m\u001b[0;34m(\u001b[0m\u001b[0mhole\u001b[0m\u001b[0;34m)\u001b[0m\u001b[0;34m\u001b[0m\u001b[0;34m\u001b[0m\u001b[0m\n\u001b[1;32m     16\u001b[0m \u001b[0;34m\u001b[0m\u001b[0m\n",
      "\u001b[0;32m<ipython-input-2-99b059e699cc>\u001b[0m in \u001b[0;36mmonte_carlo_pred\u001b[0;34m(curr_state, iterations)\u001b[0m\n\u001b[1;32m      4\u001b[0m     \u001b[0;32mfor\u001b[0m \u001b[0mi\u001b[0m \u001b[0;32min\u001b[0m \u001b[0mrange\u001b[0m\u001b[0;34m(\u001b[0m\u001b[0miterations\u001b[0m\u001b[0;34m)\u001b[0m\u001b[0;34m:\u001b[0m\u001b[0;34m\u001b[0m\u001b[0;34m\u001b[0m\u001b[0m\n\u001b[1;32m      5\u001b[0m         \u001b[0mn0\u001b[0m \u001b[0;34m=\u001b[0m \u001b[0mmcts\u001b[0m\u001b[0;34m.\u001b[0m\u001b[0mroot_node\u001b[0m\u001b[0;34m\u001b[0m\u001b[0;34m\u001b[0m\u001b[0m\n\u001b[0;32m----> 6\u001b[0;31m         \u001b[0mmcts\u001b[0m\u001b[0;34m.\u001b[0m\u001b[0mMCTS\u001b[0m\u001b[0;34m(\u001b[0m\u001b[0mn0\u001b[0m\u001b[0;34m)\u001b[0m\u001b[0;34m\u001b[0m\u001b[0;34m\u001b[0m\u001b[0m\n\u001b[0m\u001b[1;32m      7\u001b[0m     \u001b[0;32mreturn\u001b[0m \u001b[0mmcts\u001b[0m\u001b[0;34m.\u001b[0m\u001b[0mrobust_child\u001b[0m\u001b[0;34m(\u001b[0m\u001b[0;34m)\u001b[0m\u001b[0;34m\u001b[0m\u001b[0;34m\u001b[0m\u001b[0m\n",
      "\u001b[0;32m~/git/KalahaAI/MCTS/MCTS.py\u001b[0m in \u001b[0;36mMCTS\u001b[0;34m(self, n0)\u001b[0m\n\u001b[1;32m     36\u001b[0m     \u001b[0;32mdef\u001b[0m \u001b[0mMCTS\u001b[0m\u001b[0;34m(\u001b[0m\u001b[0mself\u001b[0m\u001b[0;34m,\u001b[0m \u001b[0mn0\u001b[0m\u001b[0;34m)\u001b[0m\u001b[0;34m:\u001b[0m\u001b[0;34m\u001b[0m\u001b[0;34m\u001b[0m\u001b[0m\n\u001b[1;32m     37\u001b[0m         \u001b[0mn1\u001b[0m \u001b[0;34m=\u001b[0m \u001b[0mself\u001b[0m\u001b[0;34m.\u001b[0m\u001b[0mtree_policy\u001b[0m\u001b[0;34m(\u001b[0m\u001b[0mn0\u001b[0m\u001b[0;34m)\u001b[0m\u001b[0;34m\u001b[0m\u001b[0;34m\u001b[0m\u001b[0m\n\u001b[0;32m---> 38\u001b[0;31m         \u001b[0mreward\u001b[0m \u001b[0;34m=\u001b[0m \u001b[0mn1\u001b[0m\u001b[0;34m.\u001b[0m\u001b[0mrollout\u001b[0m\u001b[0;34m(\u001b[0m\u001b[0;34m)\u001b[0m\u001b[0;34m\u001b[0m\u001b[0;34m\u001b[0m\u001b[0m\n\u001b[0m\u001b[1;32m     39\u001b[0m         \u001b[0mn1\u001b[0m\u001b[0;34m.\u001b[0m\u001b[0mbackpropagate\u001b[0m\u001b[0;34m(\u001b[0m\u001b[0mreward\u001b[0m\u001b[0;34m)\u001b[0m\u001b[0;34m\u001b[0m\u001b[0;34m\u001b[0m\u001b[0m\n\u001b[1;32m     40\u001b[0m \u001b[0;34m\u001b[0m\u001b[0m\n",
      "\u001b[0;32m~/git/KalahaAI/MCTS/Node.py\u001b[0m in \u001b[0;36mrollout\u001b[0;34m(self)\u001b[0m\n\u001b[1;32m     19\u001b[0m         \u001b[0;32mwhile\u001b[0m \u001b[0mlen\u001b[0m\u001b[0;34m(\u001b[0m\u001b[0mchild_states\u001b[0m\u001b[0;34m)\u001b[0m \u001b[0;34m>\u001b[0m \u001b[0;36m0\u001b[0m\u001b[0;34m:\u001b[0m\u001b[0;34m\u001b[0m\u001b[0;34m\u001b[0m\u001b[0m\n\u001b[1;32m     20\u001b[0m             \u001b[0mrandom_child_state\u001b[0m \u001b[0;34m=\u001b[0m \u001b[0mrandom\u001b[0m\u001b[0;34m.\u001b[0m\u001b[0mchoice\u001b[0m\u001b[0;34m(\u001b[0m\u001b[0mchild_states\u001b[0m\u001b[0;34m)\u001b[0m\u001b[0;34m\u001b[0m\u001b[0;34m\u001b[0m\u001b[0m\n\u001b[0;32m---> 21\u001b[0;31m             \u001b[0mchild_states\u001b[0m \u001b[0;34m=\u001b[0m \u001b[0mrandom_child_state\u001b[0m\u001b[0;34m.\u001b[0m\u001b[0mcompute_child_states\u001b[0m\u001b[0;34m(\u001b[0m\u001b[0;34m)\u001b[0m\u001b[0;34m\u001b[0m\u001b[0;34m\u001b[0m\u001b[0m\n\u001b[0m\u001b[1;32m     22\u001b[0m \u001b[0;34m\u001b[0m\u001b[0m\n\u001b[1;32m     23\u001b[0m         \u001b[0;32mif\u001b[0m \u001b[0mrandom_child_state\u001b[0m \u001b[0;34m==\u001b[0m \u001b[0;32mNone\u001b[0m\u001b[0;34m:\u001b[0m\u001b[0;34m\u001b[0m\u001b[0;34m\u001b[0m\u001b[0m\n",
      "\u001b[0;32m~/git/KalahaAI/MCTS/State.py\u001b[0m in \u001b[0;36mcompute_child_states\u001b[0;34m(self)\u001b[0m\n\u001b[1;32m     12\u001b[0m         \u001b[0mplayer\u001b[0m \u001b[0;34m=\u001b[0m \u001b[0mself\u001b[0m\u001b[0;34m.\u001b[0m\u001b[0mstate\u001b[0m\u001b[0;34m[\u001b[0m\u001b[0;36m3\u001b[0m\u001b[0;34m]\u001b[0m\u001b[0;34m\u001b[0m\u001b[0;34m\u001b[0m\u001b[0m\n\u001b[1;32m     13\u001b[0m         \u001b[0;32mfor\u001b[0m \u001b[0mi\u001b[0m\u001b[0;34m,\u001b[0m \u001b[0mhole\u001b[0m \u001b[0;32min\u001b[0m \u001b[0menumerate\u001b[0m\u001b[0;34m(\u001b[0m\u001b[0mself\u001b[0m\u001b[0;34m.\u001b[0m\u001b[0mstate\u001b[0m\u001b[0;34m[\u001b[0m\u001b[0mplayer\u001b[0m\u001b[0;34m]\u001b[0m\u001b[0;34m)\u001b[0m\u001b[0;34m:\u001b[0m\u001b[0;34m\u001b[0m\u001b[0;34m\u001b[0m\u001b[0m\n\u001b[0;32m---> 14\u001b[0;31m             \u001b[0mstate_copy\u001b[0m \u001b[0;34m=\u001b[0m \u001b[0mcopy\u001b[0m\u001b[0;34m.\u001b[0m\u001b[0mdeepcopy\u001b[0m\u001b[0;34m(\u001b[0m\u001b[0mself\u001b[0m\u001b[0;34m.\u001b[0m\u001b[0mstate\u001b[0m\u001b[0;34m)\u001b[0m\u001b[0;34m\u001b[0m\u001b[0;34m\u001b[0m\u001b[0m\n\u001b[0m\u001b[1;32m     15\u001b[0m             \u001b[0;32mif\u001b[0m \u001b[0mhole\u001b[0m \u001b[0;34m>\u001b[0m \u001b[0;36m0\u001b[0m\u001b[0;34m:\u001b[0m\u001b[0;34m\u001b[0m\u001b[0;34m\u001b[0m\u001b[0m\n\u001b[1;32m     16\u001b[0m                 \u001b[0mstate_copy\u001b[0m \u001b[0;34m=\u001b[0m \u001b[0mState\u001b[0m\u001b[0;34m(\u001b[0m\u001b[0mself\u001b[0m\u001b[0;34m.\u001b[0m\u001b[0mtake\u001b[0m\u001b[0;34m(\u001b[0m\u001b[0mstate_copy\u001b[0m\u001b[0;34m,\u001b[0m \u001b[0mi\u001b[0m\u001b[0;34m)\u001b[0m\u001b[0;34m,\u001b[0m \u001b[0maction\u001b[0m\u001b[0;34m=\u001b[0m\u001b[0mi\u001b[0m\u001b[0;34m)\u001b[0m\u001b[0;34m\u001b[0m\u001b[0;34m\u001b[0m\u001b[0m\n",
      "\u001b[0;32m/usr/local/Cellar/python/3.7.6_1/Frameworks/Python.framework/Versions/3.7/lib/python3.7/copy.py\u001b[0m in \u001b[0;36mdeepcopy\u001b[0;34m(x, memo, _nil)\u001b[0m\n\u001b[1;32m    148\u001b[0m     \u001b[0mcopier\u001b[0m \u001b[0;34m=\u001b[0m \u001b[0m_deepcopy_dispatch\u001b[0m\u001b[0;34m.\u001b[0m\u001b[0mget\u001b[0m\u001b[0;34m(\u001b[0m\u001b[0mcls\u001b[0m\u001b[0;34m)\u001b[0m\u001b[0;34m\u001b[0m\u001b[0;34m\u001b[0m\u001b[0m\n\u001b[1;32m    149\u001b[0m     \u001b[0;32mif\u001b[0m \u001b[0mcopier\u001b[0m\u001b[0;34m:\u001b[0m\u001b[0;34m\u001b[0m\u001b[0;34m\u001b[0m\u001b[0m\n\u001b[0;32m--> 150\u001b[0;31m         \u001b[0my\u001b[0m \u001b[0;34m=\u001b[0m \u001b[0mcopier\u001b[0m\u001b[0;34m(\u001b[0m\u001b[0mx\u001b[0m\u001b[0;34m,\u001b[0m \u001b[0mmemo\u001b[0m\u001b[0;34m)\u001b[0m\u001b[0;34m\u001b[0m\u001b[0;34m\u001b[0m\u001b[0m\n\u001b[0m\u001b[1;32m    151\u001b[0m     \u001b[0;32melse\u001b[0m\u001b[0;34m:\u001b[0m\u001b[0;34m\u001b[0m\u001b[0;34m\u001b[0m\u001b[0m\n\u001b[1;32m    152\u001b[0m         \u001b[0;32mtry\u001b[0m\u001b[0;34m:\u001b[0m\u001b[0;34m\u001b[0m\u001b[0;34m\u001b[0m\u001b[0m\n",
      "\u001b[0;32m/usr/local/Cellar/python/3.7.6_1/Frameworks/Python.framework/Versions/3.7/lib/python3.7/copy.py\u001b[0m in \u001b[0;36m_deepcopy_list\u001b[0;34m(x, memo, deepcopy)\u001b[0m\n\u001b[1;32m    213\u001b[0m     \u001b[0mappend\u001b[0m \u001b[0;34m=\u001b[0m \u001b[0my\u001b[0m\u001b[0;34m.\u001b[0m\u001b[0mappend\u001b[0m\u001b[0;34m\u001b[0m\u001b[0;34m\u001b[0m\u001b[0m\n\u001b[1;32m    214\u001b[0m     \u001b[0;32mfor\u001b[0m \u001b[0ma\u001b[0m \u001b[0;32min\u001b[0m \u001b[0mx\u001b[0m\u001b[0;34m:\u001b[0m\u001b[0;34m\u001b[0m\u001b[0;34m\u001b[0m\u001b[0m\n\u001b[0;32m--> 215\u001b[0;31m         \u001b[0mappend\u001b[0m\u001b[0;34m(\u001b[0m\u001b[0mdeepcopy\u001b[0m\u001b[0;34m(\u001b[0m\u001b[0ma\u001b[0m\u001b[0;34m,\u001b[0m \u001b[0mmemo\u001b[0m\u001b[0;34m)\u001b[0m\u001b[0;34m)\u001b[0m\u001b[0;34m\u001b[0m\u001b[0;34m\u001b[0m\u001b[0m\n\u001b[0m\u001b[1;32m    216\u001b[0m     \u001b[0;32mreturn\u001b[0m \u001b[0my\u001b[0m\u001b[0;34m\u001b[0m\u001b[0;34m\u001b[0m\u001b[0m\n\u001b[1;32m    217\u001b[0m \u001b[0md\u001b[0m\u001b[0;34m[\u001b[0m\u001b[0mlist\u001b[0m\u001b[0;34m]\u001b[0m \u001b[0;34m=\u001b[0m \u001b[0m_deepcopy_list\u001b[0m\u001b[0;34m\u001b[0m\u001b[0;34m\u001b[0m\u001b[0m\n",
      "\u001b[0;32m/usr/local/Cellar/python/3.7.6_1/Frameworks/Python.framework/Versions/3.7/lib/python3.7/copy.py\u001b[0m in \u001b[0;36mdeepcopy\u001b[0;34m(x, memo, _nil)\u001b[0m\n\u001b[1;32m    148\u001b[0m     \u001b[0mcopier\u001b[0m \u001b[0;34m=\u001b[0m \u001b[0m_deepcopy_dispatch\u001b[0m\u001b[0;34m.\u001b[0m\u001b[0mget\u001b[0m\u001b[0;34m(\u001b[0m\u001b[0mcls\u001b[0m\u001b[0;34m)\u001b[0m\u001b[0;34m\u001b[0m\u001b[0;34m\u001b[0m\u001b[0m\n\u001b[1;32m    149\u001b[0m     \u001b[0;32mif\u001b[0m \u001b[0mcopier\u001b[0m\u001b[0;34m:\u001b[0m\u001b[0;34m\u001b[0m\u001b[0;34m\u001b[0m\u001b[0m\n\u001b[0;32m--> 150\u001b[0;31m         \u001b[0my\u001b[0m \u001b[0;34m=\u001b[0m \u001b[0mcopier\u001b[0m\u001b[0;34m(\u001b[0m\u001b[0mx\u001b[0m\u001b[0;34m,\u001b[0m \u001b[0mmemo\u001b[0m\u001b[0;34m)\u001b[0m\u001b[0;34m\u001b[0m\u001b[0;34m\u001b[0m\u001b[0m\n\u001b[0m\u001b[1;32m    151\u001b[0m     \u001b[0;32melse\u001b[0m\u001b[0;34m:\u001b[0m\u001b[0;34m\u001b[0m\u001b[0;34m\u001b[0m\u001b[0m\n\u001b[1;32m    152\u001b[0m         \u001b[0;32mtry\u001b[0m\u001b[0;34m:\u001b[0m\u001b[0;34m\u001b[0m\u001b[0;34m\u001b[0m\u001b[0m\n",
      "\u001b[0;32m/usr/local/Cellar/python/3.7.6_1/Frameworks/Python.framework/Versions/3.7/lib/python3.7/copy.py\u001b[0m in \u001b[0;36m_deepcopy_list\u001b[0;34m(x, memo, deepcopy)\u001b[0m\n\u001b[1;32m    213\u001b[0m     \u001b[0mappend\u001b[0m \u001b[0;34m=\u001b[0m \u001b[0my\u001b[0m\u001b[0;34m.\u001b[0m\u001b[0mappend\u001b[0m\u001b[0;34m\u001b[0m\u001b[0;34m\u001b[0m\u001b[0m\n\u001b[1;32m    214\u001b[0m     \u001b[0;32mfor\u001b[0m \u001b[0ma\u001b[0m \u001b[0;32min\u001b[0m \u001b[0mx\u001b[0m\u001b[0;34m:\u001b[0m\u001b[0;34m\u001b[0m\u001b[0;34m\u001b[0m\u001b[0m\n\u001b[0;32m--> 215\u001b[0;31m         \u001b[0mappend\u001b[0m\u001b[0;34m(\u001b[0m\u001b[0mdeepcopy\u001b[0m\u001b[0;34m(\u001b[0m\u001b[0ma\u001b[0m\u001b[0;34m,\u001b[0m \u001b[0mmemo\u001b[0m\u001b[0;34m)\u001b[0m\u001b[0;34m)\u001b[0m\u001b[0;34m\u001b[0m\u001b[0;34m\u001b[0m\u001b[0m\n\u001b[0m\u001b[1;32m    216\u001b[0m     \u001b[0;32mreturn\u001b[0m \u001b[0my\u001b[0m\u001b[0;34m\u001b[0m\u001b[0;34m\u001b[0m\u001b[0m\n\u001b[1;32m    217\u001b[0m \u001b[0md\u001b[0m\u001b[0;34m[\u001b[0m\u001b[0mlist\u001b[0m\u001b[0;34m]\u001b[0m \u001b[0;34m=\u001b[0m \u001b[0m_deepcopy_list\u001b[0m\u001b[0;34m\u001b[0m\u001b[0;34m\u001b[0m\u001b[0m\n",
      "\u001b[0;32m/usr/local/Cellar/python/3.7.6_1/Frameworks/Python.framework/Versions/3.7/lib/python3.7/copy.py\u001b[0m in \u001b[0;36mdeepcopy\u001b[0;34m(x, memo, _nil)\u001b[0m\n\u001b[1;32m    139\u001b[0m         \u001b[0mmemo\u001b[0m \u001b[0;34m=\u001b[0m \u001b[0;34m{\u001b[0m\u001b[0;34m}\u001b[0m\u001b[0;34m\u001b[0m\u001b[0;34m\u001b[0m\u001b[0m\n\u001b[1;32m    140\u001b[0m \u001b[0;34m\u001b[0m\u001b[0m\n\u001b[0;32m--> 141\u001b[0;31m     \u001b[0md\u001b[0m \u001b[0;34m=\u001b[0m \u001b[0mid\u001b[0m\u001b[0;34m(\u001b[0m\u001b[0mx\u001b[0m\u001b[0;34m)\u001b[0m\u001b[0;34m\u001b[0m\u001b[0;34m\u001b[0m\u001b[0m\n\u001b[0m\u001b[1;32m    142\u001b[0m     \u001b[0my\u001b[0m \u001b[0;34m=\u001b[0m \u001b[0mmemo\u001b[0m\u001b[0;34m.\u001b[0m\u001b[0mget\u001b[0m\u001b[0;34m(\u001b[0m\u001b[0md\u001b[0m\u001b[0;34m,\u001b[0m \u001b[0m_nil\u001b[0m\u001b[0;34m)\u001b[0m\u001b[0;34m\u001b[0m\u001b[0;34m\u001b[0m\u001b[0m\n\u001b[1;32m    143\u001b[0m     \u001b[0;32mif\u001b[0m \u001b[0my\u001b[0m \u001b[0;32mis\u001b[0m \u001b[0;32mnot\u001b[0m \u001b[0m_nil\u001b[0m\u001b[0;34m:\u001b[0m\u001b[0;34m\u001b[0m\u001b[0;34m\u001b[0m\u001b[0m\n",
      "\u001b[0;31mKeyboardInterrupt\u001b[0m: "
     ]
    }
   ],
   "source": [
    "repetitions = 0\n",
    "iterations = [50, 100, 500, 1000, 2000] \n",
    "ai_search_depths = [2, 4, 6]\n",
    "results = []\n",
    "for search_depth in ai_search_depths:\n",
    "    for j in iterations:\n",
    "        win_rates = []\n",
    "        game_series = []\n",
    "\n",
    "        for i in range(repetitions + 1):\n",
    "            print(search_depth, j, i)\n",
    "            game_series.append(main(j))\n",
    "\n",
    "        game_series = np.array(game_series)\n",
    "        win_rate = np.size(np.where(game_series > 0)) / np.size(game_series) * 100\n",
    "        win_rates.append(win_rate)\n",
    "        print(\"Full Game Series:\", game_series)\n",
    "    \n",
    "    results.append(win_rates)"
   ]
  },
  {
   "cell_type": "code",
   "execution_count": null,
   "metadata": {},
   "outputs": [],
   "source": [
    "plt.plot(iterations, results)\n",
    "plt.title(\"MCTS vs. Random Agent\")\n",
    "#plt.legend(loc=\"upper left\")\n",
    "plt.show()"
   ]
  },
  {
   "cell_type": "code",
   "execution_count": null,
   "metadata": {},
   "outputs": [],
   "source": [
    "for i, series in enumerate(results):\n",
    "    plt.plot(range(1,len(series) + 1, 1), iterations, label=\"Depth {}\".format(ai_search_depths[i]))\n",
    "plt.title(\"AI vs. Stupid Player\")\n",
    "plt.legend(loc=\"upper left\")\n",
    "plt.show()"
   ]
  },
  {
   "cell_type": "code",
   "execution_count": 9,
   "metadata": {},
   "outputs": [
    {
     "data": {
      "image/png": "[encoded data removed]",
      "text/plain": [
       "<Figure size 432x288 with 1 Axes>"
      ]
     },
     "metadata": {
      "needs_background": "light"
     },
     "output_type": "display_data"
    }
   ],
   "source": [
    "ai_search_depths = [1, 2, 3, 4, 5, 6]\n",
    "MCTS_2000 = [90.9090909090909, \n",
    "             63.63636363636363,\n",
    "             54.54545454545454,\n",
    "             18.181818181818183,\n",
    "             27.27272727272727,\n",
    "             9.090909090909092]\n",
    "MCTS_1000 = [81.81818181818183,\n",
    " 72.72727272727273,\n",
    " 45.45454545454545,\n",
    " 36.36363636363637,\n",
    " 27.27272727272727,\n",
    " 9.090909090909092]\n",
    "plt.plot(ai_search_depths, MCTS_2000, label=\"MCTS-2000\")\n",
    "plt.plot(ai_search_depths, MCTS_1000, label=\"MCTS-1000\")\n",
    "plt.title(\"MCTS v. Minimax\")\n",
    "plt.xlabel('Minimax Search Depth')\n",
    "plt.ylabel('MCTS Win Rate [%]')\n",
    "plt.legend(loc=\"upper right\")\n",
    "plt.show()\n"
   ]
  },
  {
   "cell_type": "code",
   "execution_count": null,
   "metadata": {},
   "outputs": [],
   "source": []
  }
 ],
 "metadata": {
  "kernelspec": {
   "display_name": "Python 3",
   "language": "python",
   "name": "python3"
  },
  "language_info": {
   "codemirror_mode": {
    "name": "ipython",
    "version": 3
   },
   "file_extension": ".py",
   "mimetype": "text/x-python",
   "name": "python",
   "nbconvert_exporter": "python",
   "pygments_lexer": "ipython3",
   "version": "3.7.6"
  },
  "toc": {
   "base_numbering": 1,
   "nav_menu": {},
   "number_sections": true,
   "sideBar": true,
   "skip_h1_title": false,
   "title_cell": "Table of Contents",
   "title_sidebar": "Contents",
   "toc_cell": false,
   "toc_position": {},
   "toc_section_display": true,
   "toc_window_display": false
  }
 },
 "nbformat": 4,
 "nbformat_minor": 2
}
